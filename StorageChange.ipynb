{
 "cells": [
  {
   "cell_type": "code",
   "execution_count": 2,
   "id": "403d5434-a12c-44e0-8ac0-60c632166013",
   "metadata": {},
   "outputs": [],
   "source": [
    "import os\n",
    "import numpy as np\n",
    "import pandas as pd\n",
    "import pypsa\n",
    "import matplotlib.pyplot as plt"
   ]
  },
  {
   "cell_type": "code",
   "execution_count": 3,
   "id": "cae91bf1-c8d2-48c5-937c-d1c1faaab518",
   "metadata": {},
   "outputs": [
    {
     "name": "stderr",
     "output_type": "stream",
     "text": [
      "WARNING:pypsa.io:Importing network from PyPSA version v0.22.0 while current version is v0.31.0. Read the release notes at https://pypsa.readthedocs.io/en/latest/release_notes.html to prepare your network for import.\n",
      "INFO:pypsa.io:Imported network 1993_181_90m_c1.25_Co2L0.0-1H.nc has buses, carriers, generators, global_constraints, lines, links, loads, storage_units\n",
      "INFO:pypsa.io:Imported network 1993_181_90m_c1.25_Co2L0.0-1H_LS_solved.nc has buses, carriers, generators, global_constraints, lines, links, loads, storage_units\n"
     ]
    }
   ],
   "source": [
    "n = pypsa.Network(\"networks/sample/solved/1993_181_90m_c1.25_Co2L0.0-1H.nc\")\n",
    "n2 = pypsa.Network(\"networks/outputs/solved/1993_181_90m_c1.25_Co2L0.0-1H_LS_solved.nc\")"
   ]
  },
  {
   "cell_type": "code",
   "execution_count": 36,
   "id": "331ee997-3f88-48bf-b510-9a7aa4aa426f",
   "metadata": {},
   "outputs": [
    {
     "data": {
      "text/plain": [
       "StorageUnit\n",
       "AL0 0 hydro    0.0\n",
       "AT0 0 PHS      0.0\n",
       "AT0 0 hydro    0.0\n",
       "BA0 0 PHS      0.0\n",
       "BA0 0 hydro    0.0\n",
       "              ... \n",
       "SE1 0 H2       0.0\n",
       "SE1 1 H2       0.0\n",
       "SE1 2 H2       0.0\n",
       "SI0 0 H2       0.0\n",
       "SK0 0 H2       0.0\n",
       "Name: marginal_cost_storage, Length: 284, dtype: float64"
      ]
     },
     "execution_count": 36,
     "metadata": {},
     "output_type": "execute_result"
    }
   ],
   "source": [
    "n2.storage_units[\"marginal_cost_storage\"] #[\"p_nom\"] #[\"p_nom_extendable\"]"
   ]
  },
  {
   "cell_type": "code",
   "execution_count": 19,
   "id": "4263cfa0-7ced-457a-a849-632c474d87e0",
   "metadata": {},
   "outputs": [
    {
     "name": "stdout",
     "output_type": "stream",
     "text": [
      "218815607.04519242\n",
      "3486672.532918156\n",
      "0.01593429545543361\n"
     ]
    }
   ],
   "source": [
    "print((n.storage_units[\"p_nom_opt\"]*n.storage_units[\"max_hours\"]).sum())\n",
    "print((n2.storage_units[\"p_nom_opt\"]*n2.storage_units[\"max_hours\"]).sum())\n",
    "print((n2.storage_units[\"p_nom_opt\"]*n2.storage_units[\"max_hours\"]).sum()/(n.storage_units[\"p_nom_opt\"]*n.storage_units[\"max_hours\"]).sum())"
   ]
  },
  {
   "cell_type": "code",
   "execution_count": 34,
   "id": "0c42f68a-bf4a-4170-96df-0b0b02ae9dc7",
   "metadata": {},
   "outputs": [
    {
     "name": "stdout",
     "output_type": "stream",
     "text": [
      "                marginal_cost_storage  p_nom_extendable\n",
      "StorageUnit                                            \n",
      "AL0 0 battery                     0.0              True\n",
      "AT0 0 battery                     0.0              True\n",
      "BA0 0 battery                     0.0              True\n",
      "BE0 0 battery                     0.0              True\n",
      "BE0 1 battery                     0.0              True\n",
      "BG0 0 battery                     0.0              True\n",
      "CH0 0 battery                     0.0              True\n",
      "CZ0 0 battery                     0.0              True\n",
      "DE0 0 battery                     0.0              True\n",
      "DE0 1 battery                     0.0              True\n",
      "DE0 10 battery                    0.0              True\n",
      "DE0 11 battery                    0.0              True\n",
      "DE0 12 battery                    0.0              True\n",
      "DE0 13 battery                    0.0              True\n",
      "DE0 2 battery                     0.0              True\n",
      "DE0 3 battery                     0.0              True\n",
      "DE0 4 battery                     0.0              True\n",
      "DE0 5 battery                     0.0              True\n",
      "DE0 6 battery                     0.0              True\n",
      "DE0 7 battery                     0.0              True\n",
      "DE0 8 battery                     0.0              True\n",
      "DE0 9 battery                     0.0              True\n",
      "DK0 0 battery                     0.0              True\n",
      "DK1 0 battery                     0.0              True\n",
      "EE2 0 battery                     0.0              True\n",
      "ES0 0 battery                     0.0              True\n",
      "ES0 1 battery                     0.0              True\n",
      "ES0 2 battery                     0.0              True\n",
      "ES0 3 battery                     0.0              True\n",
      "ES0 4 battery                     0.0              True\n",
      "ES0 5 battery                     0.0              True\n",
      "ES3 0 battery                     0.0              True\n",
      "FI1 0 battery                     0.0              True\n",
      "FI1 1 battery                     0.0              True\n",
      "FR0 0 battery                     0.0              True\n",
      "FR0 1 battery                     0.0              True\n",
      "FR0 10 battery                    0.0              True\n",
      "FR0 11 battery                    0.0              True\n",
      "FR0 2 battery                     0.0              True\n",
      "FR0 3 battery                     0.0              True\n",
      "FR0 4 battery                     0.0              True\n",
      "FR0 5 battery                     0.0              True\n",
      "FR0 6 battery                     0.0              True\n",
      "FR0 7 battery                     0.0              True\n",
      "FR0 8 battery                     0.0              True\n",
      "FR0 9 battery                     0.0              True\n",
      "GB4 0 battery                     0.0              True\n",
      "GB4 1 battery                     0.0              True\n",
      "GB4 2 battery                     0.0              True\n",
      "GB4 3 battery                     0.0              True\n",
      "GB4 4 battery                     0.0              True\n",
      "GB4 5 battery                     0.0              True\n",
      "GB4 6 battery                     0.0              True\n",
      "GB4 7 battery                     0.0              True\n",
      "GB5 0 battery                     0.0              True\n",
      "GR0 0 battery                     0.0              True\n",
      "HR0 0 battery                     0.0              True\n",
      "HU0 0 battery                     0.0              True\n",
      "IE5 0 battery                     0.0              True\n",
      "IT0 0 battery                     0.0              True\n",
      "IT0 1 battery                     0.0              True\n",
      "IT0 2 battery                     0.0              True\n",
      "IT0 3 battery                     0.0              True\n",
      "IT0 4 battery                     0.0              True\n",
      "IT0 5 battery                     0.0              True\n",
      "IT0 6 battery                     0.0              True\n",
      "IT0 7 battery                     0.0              True\n",
      "IT6 0 battery                     0.0              True\n",
      "LT2 0 battery                     0.0              True\n",
      "LU0 0 battery                     0.0              True\n",
      "LV2 0 battery                     0.0              True\n",
      "ME0 0 battery                     0.0              True\n",
      "MK0 0 battery                     0.0              True\n",
      "NL0 0 battery                     0.0              True\n",
      "NL0 1 battery                     0.0              True\n",
      "NO1 0 battery                     0.0              True\n",
      "NO1 1 battery                     0.0              True\n",
      "NO1 2 battery                     0.0              True\n",
      "PL0 0 battery                     0.0              True\n",
      "PL0 1 battery                     0.0              True\n",
      "PL0 2 battery                     0.0              True\n",
      "PL0 3 battery                     0.0              True\n",
      "PT0 0 battery                     0.0              True\n",
      "RO0 0 battery                     0.0              True\n",
      "RS0 0 battery                     0.0              True\n",
      "SE1 0 battery                     0.0              True\n",
      "SE1 1 battery                     0.0              True\n",
      "SE1 2 battery                     0.0              True\n",
      "SI0 0 battery                     0.0              True\n",
      "SK0 0 battery                     0.0              True\n"
     ]
    }
   ],
   "source": [
    "# Filter storage units with 'H2' in their name\n",
    "h2_storage_units = n2.storage_units[n.storage_units.index.str.contains(\"battery\")]\n",
    "\n",
    "# Select only the 'p_nom' and 'p_nom_extendable' columns\n",
    "h2_storage_units_subset = h2_storage_units[[\"marginal_cost_storage\", \"p_nom_extendable\"]]\n",
    "\n",
    "with pd.option_context('display.max_rows', None):\n",
    "    print(h2_storage_units_subset)"
   ]
  }
 ],
 "metadata": {
  "kernelspec": {
   "display_name": "Python 3 (ipykernel)",
   "language": "python",
   "name": "python3"
  },
  "language_info": {
   "codemirror_mode": {
    "name": "ipython",
    "version": 3
   },
   "file_extension": ".py",
   "mimetype": "text/x-python",
   "name": "python",
   "nbconvert_exporter": "python",
   "pygments_lexer": "ipython3",
   "version": "3.12.7"
  }
 },
 "nbformat": 4,
 "nbformat_minor": 5
}
